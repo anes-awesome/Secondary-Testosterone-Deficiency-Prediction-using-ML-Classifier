{
 "cells": [
  {
   "cell_type": "code",
   "execution_count": 3,
   "id": "656576fc",
   "metadata": {},
   "outputs": [
    {
     "name": "stdout",
     "output_type": "stream",
     "text": [
      "Total rows in balanced dataset: 1312\n",
      "Affected rows in balanced dataset: 656\n",
      "Unaffected rows in balanced dataset: 656\n"
     ]
    }
   ],
   "source": [
    "import pandas as pd\n",
    "from imblearn.under_sampling import RandomUnderSampler\n",
    "from imblearn.over_sampling import SMOTE\n",
    "\n",
    "# load the imbalanced dataset\n",
    "data = pd.read_excel(r'C:\\Users\\awzma\\Testosterone Deficiency\\dataset.xlsx')\n",
    "\n",
    "# separate the features and target variable\n",
    "X = data.drop('T', axis=1)\n",
    "y = data['T']\n",
    "\n",
    "# apply Random Under Sampling to balance the dataset\n",
    "rus = RandomUnderSampler(random_state=42)\n",
    "X_rus, y_rus = rus.fit_resample(X, y)\n",
    "\n",
    "# apply Synthetic Minority Over Sampling (SMOTE) to balance the dataset further\n",
    "smote = SMOTE(random_state=42)\n",
    "X_smote, y_smote = smote.fit_resample(X_rus, y_rus)\n",
    "\n",
    "# concatenate the balanced features and target variable into a new dataframe\n",
    "df_balanced = pd.concat([pd.DataFrame(X_smote), pd.DataFrame(y_smote)], axis=1)\n",
    "\n",
    "# save the balanced dataset to a CSV file on the local device\n",
    "df_balanced.to_excel('RUS + SMOTE balanced_dataset.xlsx', index=False)\n",
    "\n",
    "# Print the number of rows and affected/unaffected rows in the balanced dataset\n",
    "print('Total rows in balanced dataset:', len(df_balanced))\n",
    "print('Affected rows in balanced dataset:', sum(df_balanced['T'] == 1))\n",
    "print('Unaffected rows in balanced dataset:', sum(df_balanced['T'] == 0))\n"
   ]
  },
  {
   "cell_type": "code",
   "execution_count": null,
   "id": "dffd91be",
   "metadata": {},
   "outputs": [],
   "source": []
  }
 ],
 "metadata": {
  "kernelspec": {
   "display_name": "Python 3 (ipykernel)",
   "language": "python",
   "name": "python3"
  },
  "language_info": {
   "codemirror_mode": {
    "name": "ipython",
    "version": 3
   },
   "file_extension": ".py",
   "mimetype": "text/x-python",
   "name": "python",
   "nbconvert_exporter": "python",
   "pygments_lexer": "ipython3",
   "version": "3.9.13"
  }
 },
 "nbformat": 4,
 "nbformat_minor": 5
}
