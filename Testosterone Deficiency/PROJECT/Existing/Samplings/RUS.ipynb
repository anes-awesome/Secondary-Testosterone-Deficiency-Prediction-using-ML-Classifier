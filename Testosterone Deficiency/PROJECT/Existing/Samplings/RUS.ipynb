{
 "cells": [
  {
   "cell_type": "code",
   "execution_count": 1,
   "id": "9dc5e078",
   "metadata": {},
   "outputs": [
    {
     "name": "stdout",
     "output_type": "stream",
     "text": [
      "Total rows in balanced dataset: 1066\n",
      "Affected rows in balanced dataset: 533\n",
      "Unaffected rows in balanced dataset: 533\n"
     ]
    }
   ],
   "source": [
    "import pandas as pd\n",
    "from sklearn.model_selection import train_test_split\n",
    "from sklearn.utils import resample\n",
    "\n",
    "# Load dataset into a pandas dataframe\n",
    "df = pd.read_excel(r'C:\\Users\\awzma\\Testosterone Deficiency\\dataset.xlsx')\n",
    "\n",
    "# Split the data into training and testing sets\n",
    "X_train, X_test, y_train, y_test = train_test_split(df.iloc[:,:-1], \n",
    "                                                    df.iloc[:,-1], \n",
    "                                                    test_size=0.2, \n",
    "                                                    random_state=42)\n",
    "\n",
    "# Combine the training features and target into one dataframe\n",
    "train_df = pd.concat([X_train, y_train], axis=1)\n",
    "\n",
    "# Separate minority and majority classes\n",
    "minority_class = train_df[train_df.iloc[:,-1]==1]\n",
    "majority_class = train_df[train_df.iloc[:,-1]==0]\n",
    "\n",
    "# Undersample majority class\n",
    "majority_undersampled = resample(majority_class, \n",
    "                                 replace=False,     # sample without replacement\n",
    "                                 n_samples=len(minority_class),    # match minority class size\n",
    "                                 random_state=42)   # reproducible results\n",
    "\n",
    "# Combine minority class and undersampled majority class\n",
    "balanced_df = pd.concat([minority_class, majority_undersampled])\n",
    "\n",
    "# Save the balanced dataset to local device\n",
    "balanced_df.to_excel('RUS balanced_dataset.xlsx', index=False)\n",
    "\n",
    "# Print the number of rows and affected/unaffected rows in the balanced dataset\n",
    "print('Total rows in balanced dataset:', len(balanced_df))\n",
    "print('Affected rows in balanced dataset:', sum(balanced_df['T'] == 1))\n",
    "print('Unaffected rows in balanced dataset:', sum(balanced_df['T'] == 0))\n"
   ]
  },
  {
   "cell_type": "code",
   "execution_count": null,
   "id": "a6f96307",
   "metadata": {},
   "outputs": [],
   "source": []
  }
 ],
 "metadata": {
  "kernelspec": {
   "display_name": "Python 3 (ipykernel)",
   "language": "python",
   "name": "python3"
  },
  "language_info": {
   "codemirror_mode": {
    "name": "ipython",
    "version": 3
   },
   "file_extension": ".py",
   "mimetype": "text/x-python",
   "name": "python",
   "nbconvert_exporter": "python",
   "pygments_lexer": "ipython3",
   "version": "3.9.13"
  }
 },
 "nbformat": 4,
 "nbformat_minor": 5
}
