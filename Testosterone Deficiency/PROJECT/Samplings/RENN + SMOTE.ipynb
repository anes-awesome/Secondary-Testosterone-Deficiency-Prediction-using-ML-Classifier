{
 "cells": [
  {
   "cell_type": "code",
   "execution_count": 9,
   "id": "d51d55ef",
   "metadata": {},
   "outputs": [
    {
     "name": "stdout",
     "output_type": "stream",
     "text": [
      "Total rows in balanced dataset: 2470\n",
      "Affected rows in balanced dataset: 1235\n",
      "Unaffected rows in balanced dataset: 1235\n"
     ]
    }
   ],
   "source": [
    "import pandas as pd\n",
    "from imblearn.combine import SMOTETomek\n",
    "from imblearn.under_sampling import RepeatedEditedNearestNeighbours\n",
    "\n",
    "# Load the imbalanced dataset\n",
    "df = pd.read_excel(r'C:\\Users\\awzma\\Testosterone Deficiency\\dataset.xlsx')\n",
    "\n",
    "# Separate the features and target variable\n",
    "X = df.drop('T', axis=1)\n",
    "y = df['T']\n",
    "\n",
    "# Apply Repeated Edited Nearest Neighbours\n",
    "renn = RepeatedEditedNearestNeighbours()\n",
    "X_renn, y_renn = renn.fit_resample(X, y)\n",
    "\n",
    "# Apply Synthetic Minority Over-sampling Technique\n",
    "smote_tomek = SMOTETomek()\n",
    "X_balanced, y_balanced = smote_tomek.fit_resample(X_renn, y_renn)\n",
    "\n",
    "# Convert the balanced dataset to a Pandas DataFrame\n",
    "df_balanced = pd.DataFrame(X_balanced, columns=X.columns)\n",
    "df_balanced['T'] = y_balanced\n",
    "\n",
    "# Save the balanced dataset to a local device\n",
    "df_balanced.to_excel('RENN + SMOTE balanced_dataset.xlsx', index=False)\n",
    "\n",
    "# Print the number of rows and affected/unaffected rows in the balanced dataset\n",
    "print('Total rows in balanced dataset:', len(df_balanced))\n",
    "print('Affected rows in balanced dataset:', sum(df_balanced['T'] == 1))\n",
    "print('Unaffected rows in balanced dataset:', sum(df_balanced['T'] == 0))"
   ]
  },
  {
   "cell_type": "code",
   "execution_count": null,
   "id": "ccc81b9d",
   "metadata": {},
   "outputs": [],
   "source": []
  }
 ],
 "metadata": {
  "kernelspec": {
   "display_name": "Python 3 (ipykernel)",
   "language": "python",
   "name": "python3"
  },
  "language_info": {
   "codemirror_mode": {
    "name": "ipython",
    "version": 3
   },
   "file_extension": ".py",
   "mimetype": "text/x-python",
   "name": "python",
   "nbconvert_exporter": "python",
   "pygments_lexer": "ipython3",
   "version": "3.9.13"
  }
 },
 "nbformat": 4,
 "nbformat_minor": 5
}
