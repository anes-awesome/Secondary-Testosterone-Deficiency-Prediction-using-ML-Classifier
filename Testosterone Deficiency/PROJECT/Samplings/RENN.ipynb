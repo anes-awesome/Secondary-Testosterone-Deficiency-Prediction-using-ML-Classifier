{
 "cells": [
  {
   "cell_type": "code",
   "execution_count": 7,
   "id": "57e35951",
   "metadata": {},
   "outputs": [
    {
     "name": "stdout",
     "output_type": "stream",
     "text": [
      "Total rows in balanced dataset: 1921\n",
      "Affected rows in balanced dataset: 533\n",
      "Unaffected rows in balanced dataset: 1388\n"
     ]
    }
   ],
   "source": [
    "import pandas as pd\n",
    "from sklearn.model_selection import train_test_split\n",
    "from imblearn.under_sampling import EditedNearestNeighbours\n",
    "\n",
    "# Load dataset into a pandas dataframe\n",
    "df = pd.read_excel(r'C:\\Users\\awzma\\Testosterone Deficiency\\dataset.xlsx')\n",
    "\n",
    "# Split the data into training and testing sets\n",
    "X_train, X_test, y_train, y_test = train_test_split(df.iloc[:,:-1], \n",
    "                                                    df.iloc[:,-1], \n",
    "                                                    test_size=0.2, \n",
    "                                                    random_state=42)\n",
    "\n",
    "# Combine the training features and target into one dataframe\n",
    "train_df = pd.concat([X_train, y_train], axis=1)\n",
    "\n",
    "# Separate minority and majority classes\n",
    "minority_class = train_df[train_df.T==1]\n",
    "majority_class = train_df[train_df.T==0]\n",
    "\n",
    "# Undersample using RENN\n",
    "renn = EditedNearestNeighbours(sampling_strategy='auto')\n",
    "X_resampled, y_resampled = renn.fit_resample(train_df.iloc[:,:-1], train_df.iloc[:,-1])\n",
    "\n",
    "# Combine minority class and undersampled majority class\n",
    "train_resampled = pd.concat([X_resampled, y_resampled], axis=1)\n",
    "\n",
    "\n",
    "# Save the balanced dataset to local device\n",
    "train_resampled.to_excel('RENN balanced_dataset.xlsx', index=False)\n",
    "\n",
    "# Print the number of rows and affected/unaffected rows in the balanced dataset\n",
    "print('Total rows in balanced dataset:', len(train_resampled))\n",
    "print('Affected rows in balanced dataset:', sum(train_resampled['T'] == 1))\n",
    "print('Unaffected rows in balanced dataset:', sum(train_resampled['T'] == 0))\n"
   ]
  },
  {
   "cell_type": "code",
   "execution_count": null,
   "id": "c631ef46",
   "metadata": {},
   "outputs": [],
   "source": []
  },
  {
   "cell_type": "code",
   "execution_count": null,
   "id": "d23ec253",
   "metadata": {},
   "outputs": [],
   "source": []
  }
 ],
 "metadata": {
  "kernelspec": {
   "display_name": "Python 3 (ipykernel)",
   "language": "python",
   "name": "python3"
  },
  "language_info": {
   "codemirror_mode": {
    "name": "ipython",
    "version": 3
   },
   "file_extension": ".py",
   "mimetype": "text/x-python",
   "name": "python",
   "nbconvert_exporter": "python",
   "pygments_lexer": "ipython3",
   "version": "3.9.13"
  }
 },
 "nbformat": 4,
 "nbformat_minor": 5
}
