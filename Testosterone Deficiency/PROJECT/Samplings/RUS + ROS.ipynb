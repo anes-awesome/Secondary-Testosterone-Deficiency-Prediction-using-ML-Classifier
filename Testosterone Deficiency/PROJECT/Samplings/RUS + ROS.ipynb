{
 "cells": [
  {
   "cell_type": "code",
   "execution_count": 13,
   "id": "930166f2",
   "metadata": {},
   "outputs": [
    {
     "name": "stdout",
     "output_type": "stream",
     "text": [
      "Total rows in balanced dataset: 1312\n",
      "Affected rows in balanced dataset: 656\n",
      "Unaffected rows in balanced dataset: 656\n"
     ]
    }
   ],
   "source": [
    "from imblearn.under_sampling import RandomUnderSampler\n",
    "from imblearn.over_sampling import RandomOverSampler\n",
    "import pandas as pd\n",
    "\n",
    "# Load the original dataset\n",
    "data = pd.read_excel(r'C:\\Users\\awzma\\Testosterone Deficiency\\dataset.xlsx')\n",
    "\n",
    "# Separate the features and target variable\n",
    "X = data.drop('T', axis=1)\n",
    "y = data['T']\n",
    "\n",
    "# Apply random under-sampling\n",
    "rus = RandomUnderSampler(random_state=42)\n",
    "X_resampled, y_resampled = rus.fit_resample(X, y)\n",
    "\n",
    "# Apply random over-sampling\n",
    "ros = RandomOverSampler(random_state=42)\n",
    "X_resampled, y_resampled = ros.fit_resample(X_resampled, y_resampled)\n",
    "\n",
    "# Combine the features and target variable into a new dataframe\n",
    "balanced_data = pd.concat([pd.DataFrame(X_resampled), pd.DataFrame(y_resampled)], axis=1)\n",
    "\n",
    "# Save the balanced dataset to local device\n",
    "balanced_data.to_excel('RUS + ROS balanced_dataset.xlsx', index=False)\n",
    "\n",
    "# Print the number of rows and affected/unaffected rows in the balanced dataset\n",
    "print('Total rows in balanced dataset:', len(balanced_data))\n",
    "print('Affected rows in balanced dataset:', sum(balanced_data['T'] == 1))\n",
    "print('Unaffected rows in balanced dataset:', sum(balanced_data['T'] == 0))\n"
   ]
  },
  {
   "cell_type": "code",
   "execution_count": null,
   "id": "cc2985af",
   "metadata": {},
   "outputs": [],
   "source": []
  }
 ],
 "metadata": {
  "kernelspec": {
   "display_name": "Python 3 (ipykernel)",
   "language": "python",
   "name": "python3"
  },
  "language_info": {
   "codemirror_mode": {
    "name": "ipython",
    "version": 3
   },
   "file_extension": ".py",
   "mimetype": "text/x-python",
   "name": "python",
   "nbconvert_exporter": "python",
   "pygments_lexer": "ipython3",
   "version": "3.9.13"
  }
 },
 "nbformat": 4,
 "nbformat_minor": 5
}
