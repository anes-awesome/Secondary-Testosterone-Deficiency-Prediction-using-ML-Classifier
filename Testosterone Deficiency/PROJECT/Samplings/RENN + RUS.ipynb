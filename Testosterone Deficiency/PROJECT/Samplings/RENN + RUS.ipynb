{
 "cells": [
  {
   "cell_type": "code",
   "execution_count": 6,
   "id": "66cf68fe",
   "metadata": {},
   "outputs": [
    {
     "name": "stdout",
     "output_type": "stream",
     "text": [
      "Total rows in balanced dataset: 812\n",
      "Affected rows in balanced dataset: 156\n",
      "Unaffected rows in balanced dataset: 656\n"
     ]
    }
   ],
   "source": [
    "import pandas as pd\n",
    "from imblearn.under_sampling import RandomUnderSampler\n",
    "from imblearn.under_sampling import RepeatedEditedNearestNeighbours\n",
    "\n",
    "# Load the dataset\n",
    "df = pd.read_excel(r'C:\\Users\\awzma\\Testosterone Deficiency\\dataset.xlsx')\n",
    "\n",
    "# Separate the features and target variable\n",
    "X = df.drop('T', axis=1)\n",
    "y = df['T']\n",
    "\n",
    "# Create the under-sampling object\n",
    "rus = RandomUnderSampler()\n",
    "renn = RepeatedEditedNearestNeighbours()\n",
    "\n",
    "# Apply the under-sampling techniques to the dataset\n",
    "X_resampled, y_resampled = rus.fit_resample(X, y)\n",
    "X_resampled, y_resampled = renn.fit_resample(X_resampled, y_resampled)\n",
    "\n",
    "# Create a new dataframe with the balanced data\n",
    "df_balanced = pd.DataFrame(X_resampled, columns=X.columns)\n",
    "df_balanced['T'] = y_resampled\n",
    "\n",
    "# Save the balanced data to a CSV file\n",
    "df_balanced.to_excel('RENN + RUS balanced_dataset.xlsx', index=False)\n",
    "\n",
    "# Print the number of rows and affected/unaffected rows in the balanced dataset\n",
    "print('Total rows in balanced dataset:', len(df_balanced))\n",
    "print('Affected rows in balanced dataset:', sum(df_balanced['T'] == 1))\n",
    "print('Unaffected rows in balanced dataset:', sum(df_balanced['T'] == 0))\n"
   ]
  },
  {
   "cell_type": "code",
   "execution_count": null,
   "id": "b3ddeac2",
   "metadata": {},
   "outputs": [],
   "source": []
  }
 ],
 "metadata": {
  "kernelspec": {
   "display_name": "Python 3 (ipykernel)",
   "language": "python",
   "name": "python3"
  },
  "language_info": {
   "codemirror_mode": {
    "name": "ipython",
    "version": 3
   },
   "file_extension": ".py",
   "mimetype": "text/x-python",
   "name": "python",
   "nbconvert_exporter": "python",
   "pygments_lexer": "ipython3",
   "version": "3.9.13"
  }
 },
 "nbformat": 4,
 "nbformat_minor": 5
}
