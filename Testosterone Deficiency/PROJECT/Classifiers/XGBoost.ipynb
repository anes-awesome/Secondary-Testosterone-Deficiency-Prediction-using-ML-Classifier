{
 "cells": [
  {
   "cell_type": "code",
   "execution_count": 7,
   "id": "1a1e495d",
   "metadata": {
    "scrolled": true
   },
   "outputs": [
    {
     "name": "stdout",
     "output_type": "stream",
     "text": [
      "Accuracy for dataset 1 = 77.6471%\n",
      "Accuracy for dataset 2 = 86.4372%\n",
      "Accuracy for dataset 3 = 61.2167%\n",
      "Accuracy for dataset 4 = 87.7301%\n",
      "Accuracy for dataset 5 = 61.2167%\n",
      "Accuracy for dataset 6 = 64.4860%\n",
      "Accuracy for dataset 7 = 82.8571%\n",
      "Accuracy for dataset 8 = 90.1602%\n",
      "Accuracy for dataset 9 = 88.4439%\n"
     ]
    }
   ],
   "source": [
    "import numpy as np\n",
    "import pandas as pd\n",
    "import xgboost as xgb\n",
    "from sklearn.model_selection import train_test_split\n",
    "from sklearn.metrics import accuracy_score\n",
    "\n",
    "# Load the four datasets\n",
    "dataset_names = ['C:/Users/awzma/Testosterone Deficiency/Datasets/dataset.xlsx', \n",
    "                 'C:/Users/awzma/Testosterone Deficiency/Datasets/RUS balanced_dataset.xlsx',\n",
    "                 'C:/Users/awzma/Testosterone Deficiency/Datasets/RENN balanced_dataset.xlsx',\n",
    "                 'C:/Users/awzma/Testosterone Deficiency/Datasets/ROS balanced_dataset.xlsx',  \n",
    "                 'C:/Users/awzma/Testosterone Deficiency/Datasets/SMOTE resampled_dataset.xlsx',\n",
    "                 'C:/Users/awzma/Testosterone Deficiency/Datasets/RENN + SMOTE balanced_dataset.xlsx',\n",
    "                 'C:/Users/awzma/Testosterone Deficiency/Datasets/RUS + ROS balanced_dataset.xlsx',\n",
    "                 'C:/Users/awzma/Testosterone Deficiency/Datasets/RENN + RUS balanced_dataset.xlsx',  \n",
    "                 'C:/Users/awzma/Testosterone Deficiency/Datasets/RUS + SMOTE balanced_dataset.xlsx']\n",
    "datasets = [pd.read_excel(name) for name in dataset_names]\n",
    "\n",
    "# Train and test the XGBoost classifier on each dataset\n",
    "for i, dataset in enumerate(datasets):\n",
    "    # Split the dataset into features and target variable\n",
    "    X = dataset.iloc[:, :-1].values\n",
    "    y = dataset.iloc[:, -1].values\n",
    "\n",
    "    # Split the dataset into training and testing sets\n",
    "    X_train, X_test, y_train, y_test = train_test_split(X, y, test_size=0.2, random_state=42)\n",
    "\n",
    "    # Create the XGBoost classifier with default hyperparameters\n",
    "    xgb_classifier = xgb.XGBClassifier()\n",
    "\n",
    "    # Train the XGBoost classifier using the training set\n",
    "    xgb_classifier.fit(X_train, y_train)\n",
    "\n",
    "    # Make predictions on the testing set\n",
    "    predictions = xgb_classifier.predict(X_test)\n",
    "\n",
    "    # Calculate the accuracy on the testing set\n",
    "    accuracy = accuracy_score(y_test, predictions)\n",
    "\n",
    "    # Print the accuracy for this dataset\n",
    "    print(f\"Accuracy for dataset {i+1} = {accuracy:.4%}\")\n"
   ]
  },
  {
   "cell_type": "code",
   "execution_count": 5,
   "id": "fc5b305c",
   "metadata": {},
   "outputs": [
    {
     "name": "stdout",
     "output_type": "stream",
     "text": [
      "Collecting xgboost\n",
      "  Using cached xgboost-1.7.5-py3-none-win_amd64.whl (70.9 MB)\n",
      "Requirement already satisfied: numpy in c:\\users\\awzma\\anaconda3\\lib\\site-packages (from xgboost) (1.21.5)\n",
      "Requirement already satisfied: scipy in c:\\users\\awzma\\anaconda3\\lib\\site-packages (from xgboost) (1.9.1)\n",
      "Installing collected packages: xgboost\n",
      "Successfully installed xgboost-1.7.5\n",
      "Note: you may need to restart the kernel to use updated packages.\n"
     ]
    }
   ],
   "source": [
    "pip install xgboost\n"
   ]
  },
  {
   "cell_type": "code",
   "execution_count": 3,
   "id": "7712b041",
   "metadata": {},
   "outputs": [
    {
     "name": "stdout",
     "output_type": "stream",
     "text": [
      "Average accuracy for dataset 1 = 79.4230%\n",
      "Average accuracy for dataset 2 = 65.0123%\n",
      "Average accuracy for dataset 3 = 82.4566%\n",
      "Average accuracy for dataset 4 = 89.8124%\n",
      "Average accuracy for dataset 5 = 87.4090%\n",
      "Average accuracy for dataset 6 = 88.9069%\n",
      "Average accuracy for dataset 7 = 63.4906%\n",
      "Average accuracy for dataset 8 = 87.3065%\n",
      "Average accuracy for dataset 9 = 63.4906%\n",
      "Mean accuracy = 78.5898%\n"
     ]
    }
   ],
   "source": [
    "import numpy as np\n",
    "import pandas as pd\n",
    "import xgboost as xgb\n",
    "from sklearn.model_selection import StratifiedKFold\n",
    "from sklearn.metrics import accuracy_score\n",
    "\n",
    "# Load the four datasets\n",
    "dataset_names = ['C:/Users/awzma/Testosterone Deficiency/Datasets/dataset.xlsx', \n",
    "                 'C:/Users/awzma/Testosterone Deficiency/Datasets/RUS balanced_dataset.xlsx',\n",
    "                 'C:/Users/awzma/Testosterone Deficiency/Datasets/RENN balanced_dataset.xlsx',\n",
    "                 'C:/Users/awzma/Testosterone Deficiency/Datasets/ROS balanced_dataset.xlsx',  \n",
    "                 'C:/Users/awzma/Testosterone Deficiency/Datasets/SMOTE resampled_dataset.xlsx',\n",
    "                 'C:/Users/awzma/Testosterone Deficiency/Datasets/RENN + SMOTE balanced_dataset.xlsx',\n",
    "                 'C:/Users/awzma/Testosterone Deficiency/Datasets/RUS + ROS balanced_dataset.xlsx',\n",
    "                 'C:/Users/awzma/Testosterone Deficiency/Datasets/RENN + RUS balanced_dataset.xlsx',  \n",
    "                 'C:/Users/awzma/Testosterone Deficiency/Datasets/RUS + SMOTE balanced_dataset.xlsx']\n",
    "datasets = [pd.read_excel(name) for name in dataset_names]\n",
    "\n",
    "# Train and test the XGBoost classifier on each dataset using 10-fold stratified cross-validation\n",
    "mean_accuracy = 0\n",
    "for i, dataset in enumerate(datasets):\n",
    "    # Split the dataset into features and target variable\n",
    "    X = dataset.iloc[:, :-1].values\n",
    "    y = dataset.iloc[:, -1].values\n",
    "\n",
    "    # Create the stratified 10-fold cross-validator\n",
    "    skf = StratifiedKFold(n_splits=10, shuffle=True, random_state=42)\n",
    "\n",
    "    # Create an empty list to store the accuracy scores for each fold\n",
    "    fold_accuracies = []\n",
    "\n",
    "    # Iterate over the folds\n",
    "    for fold, (train_idx, test_idx) in enumerate(skf.split(X, y)):\n",
    "        # Get the training and testing sets for this fold\n",
    "        X_train, X_test = X[train_idx], X[test_idx]\n",
    "        y_train, y_test = y[train_idx], y[test_idx]\n",
    "\n",
    "        # Create the XGBoost classifier with default hyperparameters\n",
    "        xgb_classifier = xgb.XGBClassifier()\n",
    "\n",
    "        # Train the XGBoost classifier using the training set\n",
    "        xgb_classifier.fit(X_train, y_train)\n",
    "\n",
    "        # Make predictions on the testing set\n",
    "        predictions = xgb_classifier.predict(X_test)\n",
    "\n",
    "        # Calculate the accuracy on the testing set\n",
    "        accuracy = accuracy_score(y_test, predictions)\n",
    "\n",
    "        # Store the accuracy score for this fold\n",
    "        fold_accuracies.append(accuracy)\n",
    "\n",
    "        # Print the accuracy for this fold\n",
    "        #print(f\"Accuracy for dataset {i+1}, fold {fold+1} = {accuracy:.4%}\")\n",
    "\n",
    "    # Calculate the mean accuracy for all folds\n",
    "    mean_fold_accuracy = np.mean(fold_accuracies)\n",
    "\n",
    "    # Add the mean fold accuracy to the total mean accuracy\n",
    "    mean_accuracy += mean_fold_accuracy\n",
    "\n",
    "    # Print the mean accuracy for this dataset\n",
    "    print(f\"Average accuracy for dataset {i+1} = {mean_fold_accuracy:.4%}\")\n",
    "\n",
    "# Calculate the mean accuracy for all datasets\n",
    "mean_accuracy /= len(datasets)\n",
    "\n",
    "# Print the mean accuracy for all datasets\n",
    "print(f\"Mean accuracy = {mean_accuracy:.4%}\")\n"
   ]
  },
  {
   "cell_type": "code",
   "execution_count": null,
   "id": "fd92ee89",
   "metadata": {},
   "outputs": [],
   "source": []
  }
 ],
 "metadata": {
  "kernelspec": {
   "display_name": "Python 3 (ipykernel)",
   "language": "python",
   "name": "python3"
  },
  "language_info": {
   "codemirror_mode": {
    "name": "ipython",
    "version": 3
   },
   "file_extension": ".py",
   "mimetype": "text/x-python",
   "name": "python",
   "nbconvert_exporter": "python",
   "pygments_lexer": "ipython3",
   "version": "3.9.13"
  }
 },
 "nbformat": 4,
 "nbformat_minor": 5
}
