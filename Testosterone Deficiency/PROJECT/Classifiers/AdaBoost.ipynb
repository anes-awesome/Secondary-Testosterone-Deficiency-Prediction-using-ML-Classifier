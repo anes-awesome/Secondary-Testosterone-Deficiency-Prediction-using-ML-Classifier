{
 "cells": [
  {
   "cell_type": "code",
   "execution_count": 4,
   "id": "840ddf5b",
   "metadata": {},
   "outputs": [
    {
     "name": "stdout",
     "output_type": "stream",
     "text": [
      "Accuracy for dataset 1 = 80.5882%\n",
      "Accuracy for dataset 2 = 77.7328%\n",
      "Accuracy for dataset 3 = 68.4411%\n",
      "Accuracy for dataset 4 = 84.6626%\n",
      "Accuracy for dataset 5 = 68.4411%\n",
      "Accuracy for dataset 6 = 67.7570%\n",
      "Accuracy for dataset 7 = 81.2987%\n",
      "Accuracy for dataset 8 = 71.0526%\n",
      "Accuracy for dataset 9 = 72.8833%\n"
     ]
    }
   ],
   "source": [
    "import numpy as np\n",
    "import pandas as pd\n",
    "from sklearn.neural_network import MLPClassifier\n",
    "from sklearn.model_selection import train_test_split\n",
    "from sklearn.ensemble import AdaBoostClassifier\n",
    "from sklearn.tree import DecisionTreeClassifier\n",
    "from sklearn.metrics import accuracy_score\n",
    "\n",
    "# Load the four datasets\n",
    "dataset_names = ['C:/Users/awzma/Testosterone Deficiency/Datasets/dataset.xlsx', \n",
    "                 'C:/Users/awzma/Testosterone Deficiency/Datasets/RUS balanced_dataset.xlsx',\n",
    "                 'C:/Users/awzma/Testosterone Deficiency/Datasets/RENN balanced_dataset.xlsx',\n",
    "                 'C:/Users/awzma/Testosterone Deficiency/Datasets/ROS balanced_dataset.xlsx',  \n",
    "                 'C:/Users/awzma/Testosterone Deficiency/Datasets/SMOTE resampled_dataset.xlsx',\n",
    "                 'C:/Users/awzma/Testosterone Deficiency/Datasets/RENN + SMOTE balanced_dataset.xlsx',\n",
    "                 'C:/Users/awzma/Testosterone Deficiency/Datasets/RUS + ROS balanced_dataset.xlsx',\n",
    "                 'C:/Users/awzma/Testosterone Deficiency/Datasets/RENN + RUS balanced_dataset.xlsx',  \n",
    "                 'C:/Users/awzma/Testosterone Deficiency/Datasets/RUS + SMOTE balanced_dataset.xlsx']\n",
    "datasets = [pd.read_excel(name) for name in dataset_names]\n",
    "\n",
    "# Train and test the MLP with AdaBoost on each dataset\n",
    "for i, dataset in enumerate(datasets):\n",
    "    # Split the dataset into features and target variable\n",
    "    X = dataset.iloc[:, :-1].values\n",
    "    y = dataset.iloc[:, -1].values\n",
    "\n",
    "    # Split the dataset into training and testing sets\n",
    "    X_train, X_test, y_train, y_test = train_test_split(X, y, test_size=0.2, random_state=42)\n",
    "\n",
    "    # Create an MLP classifier with 2 hidden layers\n",
    "    mlp = MLPClassifier(hidden_layer_sizes=(10, 5), max_iter=1000, random_state=42)\n",
    "\n",
    "    # Create an AdaBoost classifier with the DecisionTreeClassifier as the base estimator\n",
    "    ada_boost = AdaBoostClassifier(base_estimator=DecisionTreeClassifier(max_depth=1), n_estimators=50, random_state=42)\n",
    "\n",
    "    # Train the AdaBoost classifier using the training set\n",
    "    ada_boost.fit(X_train, y_train)\n",
    "\n",
    "    # Make predictions on the testing set\n",
    "    predictions = ada_boost.predict(X_test)\n",
    "\n",
    "    # Calculate the accuracy on the testing set\n",
    "    accuracy = accuracy_score(y_test, predictions)\n",
    "\n",
    "    # Print the accuracy for this dataset\n",
    "    print(f\"Accuracy for dataset {i+1} = {accuracy:.4%}\")\n"
   ]
  },
  {
   "cell_type": "code",
   "execution_count": 2,
   "id": "18fcc7f0",
   "metadata": {},
   "outputs": [
    {
     "name": "stdout",
     "output_type": "stream",
     "text": [
      "Average accuracy for dataset 1 = 81.4247%\n",
      "Average accuracy for dataset 2 = 69.0381%\n",
      "Average accuracy for dataset 3 = 81.9889%\n",
      "Average accuracy for dataset 4 = 70.7189%\n",
      "Average accuracy for dataset 5 = 72.6433%\n",
      "Average accuracy for dataset 6 = 79.1498%\n",
      "Average accuracy for dataset 7 = 68.0644%\n",
      "Average accuracy for dataset 8 = 84.7290%\n",
      "Average accuracy for dataset 9 = 68.0644%\n",
      "Mean accuracy = 75.0913%\n"
     ]
    }
   ],
   "source": [
    "import numpy as np\n",
    "import pandas as pd\n",
    "from sklearn.neural_network import MLPClassifier\n",
    "from sklearn.model_selection import cross_val_score\n",
    "from sklearn.ensemble import AdaBoostClassifier\n",
    "from sklearn.tree import DecisionTreeClassifier\n",
    "\n",
    "# Load the datasets\n",
    "dataset_names = ['C:/Users/awzma/Testosterone Deficiency/Datasets/dataset.xlsx', \n",
    "                 'C:/Users/awzma/Testosterone Deficiency/Datasets/RUS balanced_dataset.xlsx',\n",
    "                 'C:/Users/awzma/Testosterone Deficiency/Datasets/RENN balanced_dataset.xlsx',\n",
    "                 'C:/Users/awzma/Testosterone Deficiency/Datasets/ROS balanced_dataset.xlsx',  \n",
    "                 'C:/Users/awzma/Testosterone Deficiency/Datasets/SMOTE resampled_dataset.xlsx',\n",
    "                 'C:/Users/awzma/Testosterone Deficiency/Datasets/RENN + SMOTE balanced_dataset.xlsx',\n",
    "                 'C:/Users/awzma/Testosterone Deficiency/Datasets/RUS + ROS balanced_dataset.xlsx',\n",
    "                 'C:/Users/awzma/Testosterone Deficiency/Datasets/RENN + RUS balanced_dataset.xlsx',  \n",
    "                 'C:/Users/awzma/Testosterone Deficiency/Datasets/RUS + SMOTE balanced_dataset.xlsx']\n",
    "datasets = [pd.read_excel(name) for name in dataset_names]\n",
    "\n",
    "# Train and test the MLP with AdaBoost on each dataset\n",
    "for i, dataset in enumerate(datasets):\n",
    "    # Split the dataset into features and target variable\n",
    "    X = dataset.iloc[:, :-1].values\n",
    "    y = dataset.iloc[:, -1].values\n",
    "\n",
    "    # Create an MLP classifier with 2 hidden layers\n",
    "    mlp = MLPClassifier(hidden_layer_sizes=(10, 5), max_iter=1000, random_state=42)\n",
    "\n",
    "    # Create an AdaBoost classifier with the DecisionTreeClassifier as the base estimator\n",
    "    ada_boost = AdaBoostClassifier(base_estimator=DecisionTreeClassifier(max_depth=1), n_estimators=50, random_state=42)\n",
    "\n",
    "    # Implement stratified 10-fold cross-validation and calculate accuracy\n",
    "    cv_scores = cross_val_score(ada_boost, X, y, cv=10, scoring='accuracy')\n",
    "\n",
    "    # Print the accuracy for this dataset\n",
    "    print(f\"Average accuracy for dataset {i+1} = {np.mean(cv_scores):.4%}\")\n",
    "\n",
    "# Calculate and print the mean accuracy for all datasets\n",
    "all_cv_scores = [cross_val_score(AdaBoostClassifier(base_estimator=DecisionTreeClassifier(max_depth=1), n_estimators=50, random_state=42), dataset.iloc[:, :-1].values, dataset.iloc[:, -1].values, cv=10, scoring='accuracy') for dataset in datasets]\n",
    "mean_accuracy = np.mean(all_cv_scores)\n",
    "print(f\"Mean accuracy = {mean_accuracy:.4%}\")\n"
   ]
  },
  {
   "cell_type": "code",
   "execution_count": null,
   "id": "733df3a6",
   "metadata": {},
   "outputs": [],
   "source": []
  }
 ],
 "metadata": {
  "kernelspec": {
   "display_name": "Python 3 (ipykernel)",
   "language": "python",
   "name": "python3"
  },
  "language_info": {
   "codemirror_mode": {
    "name": "ipython",
    "version": 3
   },
   "file_extension": ".py",
   "mimetype": "text/x-python",
   "name": "python",
   "nbconvert_exporter": "python",
   "pygments_lexer": "ipython3",
   "version": "3.9.13"
  }
 },
 "nbformat": 4,
 "nbformat_minor": 5
}
